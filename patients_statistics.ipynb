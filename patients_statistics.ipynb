{
 "cells": [
  {
   "cell_type": "code",
   "execution_count": null,
   "metadata": {},
   "outputs": [],
   "source": [
    "\"\"\"\n",
    "Initial patients statistics\n",
    "\n",
    "@author Pietro Moretto\n",
    "@version 0.1\n",
    "@date 2019/6/25\n",
    "\"\"\""
   ]
  },
  {
   "cell_type": "code",
   "execution_count": null,
   "metadata": {},
   "outputs": [],
   "source": [
    "import os\n",
    "import glob"
   ]
  },
  {
   "cell_type": "code",
   "execution_count": null,
   "metadata": {},
   "outputs": [],
   "source": [
    "chiesa_path = \"/data3/wv2019/data/processed/PLIC_CHIESA_DICOM\"\n",
    "milano_path = \"/data3/wv2019/data/processed/PLIC_MILANO_DICOM\""
   ]
  },
  {
   "cell_type": "code",
   "execution_count": null,
   "metadata": {},
   "outputs": [],
   "source": [
    "chiesa_patients = len(next(os.walk(chiesa_path))[1])"
   ]
  },
  {
   "cell_type": "code",
   "execution_count": null,
   "metadata": {},
   "outputs": [],
   "source": [
    "chiesa_patients"
   ]
  },
  {
   "cell_type": "code",
   "execution_count": null,
   "metadata": {},
   "outputs": [],
   "source": [
    "milano_patients = next(os.walk(milano_path))[1]"
   ]
  },
  {
   "cell_type": "code",
   "execution_count": null,
   "metadata": {},
   "outputs": [],
   "source": [
    "doppler_patients = len(next(os.walk(milano_path+\"/DOPPLER\"))[1])"
   ]
  },
  {
   "cell_type": "code",
   "execution_count": null,
   "metadata": {},
   "outputs": [],
   "source": [
    "doppler_patients"
   ]
  },
  {
   "cell_type": "code",
   "execution_count": null,
   "metadata": {},
   "outputs": [],
   "source": [
    "n = len([pat for pat in doppler_patients if pat in milano_patients])"
   ]
  },
  {
   "cell_type": "code",
   "execution_count": null,
   "metadata": {},
   "outputs": [],
   "source": [
    "milano = len(next(os.walk(milano_path))[1]) - 1"
   ]
  },
  {
   "cell_type": "code",
   "execution_count": null,
   "metadata": {},
   "outputs": [],
   "source": [
    "milano"
   ]
  },
  {
   "cell_type": "code",
   "execution_count": null,
   "metadata": {},
   "outputs": [],
   "source": [
    "dict_chiesa_patients = {}"
   ]
  },
  {
   "cell_type": "code",
   "execution_count": null,
   "metadata": {},
   "outputs": [],
   "source": [
    "import pydicom\n",
    "import matplotlib.pyplot as plt\n",
    "\n",
    "ds = pydicom.read_file(\"/data3/wv2019/data/processed/PLIC_MILANO_DICOM/DOPPLER/PLIC2346/FB6AL8BQ.dcm\")\n",
    "plt.imshow(ds.pixel_array)\n",
    "plt.show()"
   ]
  },
  {
   "cell_type": "code",
   "execution_count": null,
   "metadata": {},
   "outputs": [],
   "source": [
    "len(next(os.walk(\"/data3/wv2019/data/processed/PLIC_CHIESA_DICOM/PLIC_CHIESA_182\"))[2])"
   ]
  },
  {
   "cell_type": "code",
   "execution_count": null,
   "metadata": {},
   "outputs": [],
   "source": [
    "for fn in glob.glob(os.path.join(chiesa_path, \"*\"), recursive=True):\n",
    "    name = fn.split(\"/\")[-1]\n",
    "    dict_chiesa_patients[name] = len(next(os.walk(fn))[2])"
   ]
  },
  {
   "cell_type": "code",
   "execution_count": null,
   "metadata": {},
   "outputs": [],
   "source": [
    "dict_chiesa_patients"
   ]
  },
  {
   "cell_type": "code",
   "execution_count": null,
   "metadata": {},
   "outputs": [],
   "source": [
    "_min = min(dict_chiesa_patients.values())\n",
    "_max = max(dict_chiesa_patients.values())\n",
    "_avg = round(sum(dict_chiesa_patients.values())/len(dict_chiesa_patients.values()), 2)"
   ]
  },
  {
   "cell_type": "code",
   "execution_count": null,
   "metadata": {},
   "outputs": [],
   "source": [
    "print(\"MIN\",_min)\n",
    "print(\"MAX\", _max)\n",
    "print(\"AVG\", _avg)"
   ]
  },
  {
   "cell_type": "code",
   "execution_count": null,
   "metadata": {},
   "outputs": [],
   "source": [
    "total_images = 0"
   ]
  },
  {
   "cell_type": "code",
   "execution_count": null,
   "metadata": {},
   "outputs": [],
   "source": [
    "for fn in glob.glob(os.path.join(chiesa_path, \"*\"), recursive=True):\n",
    "    total_images += len(next(os.walk(fn))[2])"
   ]
  },
  {
   "cell_type": "code",
   "execution_count": null,
   "metadata": {},
   "outputs": [],
   "source": [
    "total_images"
   ]
  },
  {
   "cell_type": "code",
   "execution_count": null,
   "metadata": {},
   "outputs": [],
   "source": []
  },
  {
   "cell_type": "code",
   "execution_count": null,
   "metadata": {},
   "outputs": [],
   "source": [
    "dict_milano_patients = {}"
   ]
  },
  {
   "cell_type": "code",
   "execution_count": null,
   "metadata": {},
   "outputs": [],
   "source": [
    "milano_path"
   ]
  },
  {
   "cell_type": "code",
   "execution_count": null,
   "metadata": {},
   "outputs": [],
   "source": [
    "for fn in glob.glob(os.path.join(milano_path, \"*\"), recursive=True):\n",
    "    name = fn.split(\"/\")[-1]\n",
    "    if name != \"DOPPLER\":\n",
    "        \n",
    "        dict_milano_patients[name] = len(next(os.walk(fn))[2])\n",
    "        l = len(next(os.walk(fn))[2])\n",
    "        if l == 0:\n",
    "             print(fn, name)"
   ]
  },
  {
   "cell_type": "code",
   "execution_count": null,
   "metadata": {},
   "outputs": [],
   "source": [
    "_min = min(dict_milano_patients.values())\n",
    "_max = max(dict_milano_patients.values())\n",
    "_avg = round(sum(dict_milano_patients.values())/len(dict_milano_patients.values()), 2)"
   ]
  },
  {
   "cell_type": "code",
   "execution_count": null,
   "metadata": {},
   "outputs": [],
   "source": [
    "print(\"MIN\",_min)\n",
    "print(\"MAX\", _max)\n",
    "print(\"AVG\", _avg)"
   ]
  },
  {
   "cell_type": "code",
   "execution_count": null,
   "metadata": {},
   "outputs": [],
   "source": [
    "total_images = 0"
   ]
  },
  {
   "cell_type": "code",
   "execution_count": null,
   "metadata": {},
   "outputs": [],
   "source": [
    "for fn in glob.glob(os.path.join(milano_path, \"*\"), recursive=True):\n",
    "    name = fn.split(\"/\")[-1]\n",
    "    if name != \"DOPPLER\":\n",
    "        total_images += len(next(os.walk(fn))[2])"
   ]
  },
  {
   "cell_type": "code",
   "execution_count": null,
   "metadata": {},
   "outputs": [],
   "source": [
    "total_images"
   ]
  },
  {
   "cell_type": "code",
   "execution_count": null,
   "metadata": {},
   "outputs": [],
   "source": []
  }
 ],
 "metadata": {
  "kernelspec": {
   "display_name": "Python 3",
   "language": "python",
   "name": "python3"
  },
  "language_info": {
   "codemirror_mode": {
    "name": "ipython",
    "version": 3
   },
   "file_extension": ".py",
   "mimetype": "text/x-python",
   "name": "python",
   "nbconvert_exporter": "python",
   "pygments_lexer": "ipython3",
   "version": "3.7.3"
  }
 },
 "nbformat": 4,
 "nbformat_minor": 2
}
