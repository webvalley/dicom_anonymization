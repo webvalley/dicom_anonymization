{
 "cells": [
  {
   "cell_type": "code",
   "execution_count": null,
   "metadata": {},
   "outputs": [],
   "source": [
    "\n",
    "!pip install pydicom opencv-python\n",
    "!pip install progressbar2"
   ]
  },
  {
   "cell_type": "code",
   "execution_count": null,
   "metadata": {},
   "outputs": [],
   "source": [
    "import os\n",
    "import glob\n",
    "import numpy as np\n",
    "import pandas as pd\n",
    "import re\n",
    "import matplotlib.pyplot as plt\n",
    "import pydicom\n",
    "import cv2\n",
    "\n",
    "import time\n",
    "import progressbar\n",
    "#from joblib import Parallel, delayed"
   ]
  },
  {
   "cell_type": "code",
   "execution_count": null,
   "metadata": {},
   "outputs": [],
   "source": [
    "ROOT = \"/data3/wv2019/data/PLIC_CHIESA_DICOM\"\n",
    "ROOT_OUT = \"/data3/wv2019/data/processed/PLIC_CHIESA_DICOM\"\n",
    "# image expected dimensions\n",
    "rows = 576\n",
    "cols = 640"
   ]
  },
  {
   "cell_type": "code",
   "execution_count": null,
   "metadata": {},
   "outputs": [],
   "source": [
    "files = os.listdir(ROOT)"
   ]
  },
  {
   "cell_type": "code",
   "execution_count": null,
   "metadata": {},
   "outputs": [],
   "source": [
    "for file in files:\n",
    "    f = pydicom.dcmread(os.path.join(ROOT, file))\n",
    "    print(f.data_element(\"PlanarConfiguration\").value)"
   ]
  },
  {
   "cell_type": "code",
   "execution_count": null,
   "metadata": {},
   "outputs": [],
   "source": [
    "#Input > DCM file\n",
    "#Output > Image (np matrix)\n",
    "\n",
    "def metacrop2(file):\n",
    "    for key in file.dir():\n",
    "       value = getattr(file, key, \"\")\n",
    "       if(type(value) == pydicom.sequence.Sequence):\n",
    "           value = value[0]\n",
    "           break\n",
    "    x0, x1, y0, y1 = None, None, None, None\n",
    "    for key in value.dir():\n",
    "       if key == \"RegionLocationMinX0\":\n",
    "           x0 = getattr(value, key, \"\")\n",
    "       if key == \"RegionLocationMaxX1\":\n",
    "           x1 = getattr(value, key, \"\")\n",
    "       if key == \"RegionLocationMinY0\":\n",
    "           y0 = getattr(value, key, \"\")\n",
    "       if key == \"RegionLocationMaxY1\":\n",
    "           y1 = getattr(value, key, \"\")\n",
    "    print(file.dir())\n",
    "    print(x0,x1,y0,y1)\n",
    "    return file.pixel_array[y0:y1, x0:x1]\n",
    "\n",
    "\n",
    "def old_metacrop(img):\n",
    "    print(type(img))\n",
    "    temp = (img.get_item((0x0018,0x6011)).value)\n",
    "    print(temp)\n",
    "    x0 = temp[0x00186018].value\n",
    "    x1 = temp[0x0018601a].value\n",
    "    y0 = temp[0x0018601c].value\n",
    "    y1 = temp[0x0018601e].value\n",
    "    return img.pixel_array[x0:x1, y0:y1]"
   ]
  },
  {
   "cell_type": "code",
   "execution_count": null,
   "metadata": {},
   "outputs": [],
   "source": [
    "#file = pydicom.dcmread(\"/data3/wv2019/data/processed/PLIC_CHIESA_DICOM/PLIC_CHIESA_668/PLIC_CHIESA_IN_VALMALENCO_0147.dcm\")\n",
    "file = pydicom.dcmread(\"/data3/wv2019/data/PLIC_CHIESA_DICOM/PLIC CHIESA IN VALMALENCO_0153\")\n",
    "\n",
    "print(\"Original\", file.pixel_array.shape)\n",
    "plt.imshow(file.pixel_array)\n",
    "plt.show()\n",
    "\n",
    "print(\"80\", file.pixel_array[80:,:,:].shape)\n",
    "plt.imshow(file.pixel_array[80:,:,:])\n",
    "plt.show()\n",
    "\n",
    "\n",
    "ds = pydicom.read_file(\"/data3/wv2019/data/PLIC_CHIESA_DICOM/PLIC CHIESA IN VALMALENCO_0153\")\n",
    "pdata = old_metacrop(ds)\n",
    "ds.PixelData = pdata.tobytes()\n",
    "\n",
    "print(\"Metacrop\", ds.pixel_array.shape)\n",
    "plt.imshow(ds.pixel_array)\n",
    "plt.show()\n"
   ]
  },
  {
   "cell_type": "code",
   "execution_count": null,
   "metadata": {},
   "outputs": [],
   "source": [
    "# define callbacks\n",
    "def person_names_callback(dataset, data_element):\n",
    "    if data_element.VR == \"PN\":\n",
    "        data_element.value = \"anonymous\"\n",
    "        \n",
    "def curves_callback(dataset, data_element):\n",
    "    if data_element.tag.group & 0xFF00 == 0x5000:\n",
    "        del dataset[data_element.tag]\n",
    "\n",
    "t2tag = 'PatientBirthDate'"
   ]
  },
  {
   "cell_type": "code",
   "execution_count": null,
   "metadata": {},
   "outputs": [],
   "source": [
    "### TODO\n",
    "# - extend to whole set of images\n",
    "# - remove filter based on image size\n",
    "# - keep Doppler mode\n",
    "# - parallelize code"
   ]
  },
  {
   "cell_type": "code",
   "execution_count": null,
   "metadata": {},
   "outputs": [],
   "source": [
    "#glob.glob(os.path.join(ROOT, \"*\"), recursive=True)"
   ]
  },
  {
   "cell_type": "code",
   "execution_count": null,
   "metadata": {},
   "outputs": [],
   "source": [
    "# organize DICOMs by patient ID\n",
    "# start with a subset of imgs\n",
    "for fn in glob.glob(os.path.join(ROOT, \"*\"), recursive=True):\n",
    "    ds = pydicom.read_file(fn)\n",
    "    # check image size\n",
    "    if ds.Rows == rows and ds.Columns == cols:\n",
    "        # clear private data\n",
    "        ds.walk(person_names_callback)\n",
    "        ds.walk(curves_callback)\n",
    "        # address/sanitize patient IDs (remove spaces and non alphanum characters)\n",
    "        pid = re.sub(\"\\s+\", \"_\", ds.data_element('PatientID').value.strip().replace(\"PLICC\", \"PLIC\"))\n",
    "        ds.data_element('PatientID').value = re.sub(r'\\W+', '', pid)\n",
    "        # type 2 tags\n",
    "        if t2tag in ds:\n",
    "            ds.data_element(t2tag).value = ''\n",
    "\n",
    "        patientID = ds.PatientID\n",
    "        dicomName = os.path.basename(fn).strip().replace(\" \", \"_\")\n",
    "\n",
    "        # throw away image header with private data\n",
    "        pdata = ds.pixel_array\n",
    "        pdata = pdata[80:,:,:]\n",
    "        ds.PixelData = pdata.tobytes()\n",
    "        ds.Rows, ds.Columns, _ = pdata.shape\n",
    "        \n",
    "        out_dir = os.path.join(ROOT_OUT, str(patientID))\n",
    "        os.makedirs(out_dir, exist_ok=True)\n",
    "        out_dicom = os.path.join(out_dir, f\"{dicomName}.dcm\")\n",
    "        out_png = os.path.join(out_dir, f\"conv_{dicomName}.png\")\n",
    "\n",
    "        # write DICOM Standard compliant file\n",
    "        if not os.path.isfile(out_dicom):\n",
    "            pydicom.filewriter.write_file(out_dicom, ds, write_like_original=False)\n",
    "        # write PNG for non-doppler images\n",
    "        # NOTE: not needed at first, let's keep also Doppler mode\n",
    "        if len(ds.SequenceOfUltrasoundRegions) == 1 :\n",
    "            if not os.path.isfile(out_png):\n",
    "                cv2.imwrite(out_png, ds.pixel_array)"
   ]
  },
  {
   "cell_type": "code",
   "execution_count": null,
   "metadata": {},
   "outputs": [],
   "source": []
  }
 ],
 "metadata": {
  "kernelspec": {
   "display_name": "Python 3",
   "language": "python",
   "name": "python3"
  },
  "language_info": {
   "codemirror_mode": {
    "name": "ipython",
    "version": 3
   },
   "file_extension": ".py",
   "mimetype": "text/x-python",
   "name": "python",
   "nbconvert_exporter": "python",
   "pygments_lexer": "ipython3",
   "version": "3.7.3"
  }
 },
 "nbformat": 4,
 "nbformat_minor": 2
}
