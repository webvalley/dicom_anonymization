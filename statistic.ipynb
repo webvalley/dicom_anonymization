{
 "cells": [
  {
   "cell_type": "code",
   "execution_count": null,
   "metadata": {},
   "outputs": [],
   "source": [
    "!pip install pydicom opencv-python\n"
   ]
  },
  {
   "cell_type": "code",
   "execution_count": null,
   "metadata": {},
   "outputs": [],
   "source": [
    "import os\n",
    "import glob\n",
    "import numpy as np\n",
    "import pandas as pd\n",
    "import re\n",
    "import matplotlib.pyplot as plt\n",
    "import pydicom\n",
    "import cv2\n",
    "\n",
    "from itertools import *\n"
   ]
  },
  {
   "cell_type": "code",
   "execution_count": null,
   "metadata": {},
   "outputs": [],
   "source": [
    "dirname = '/data3/wv2019/data/PLIC_CHIESA_DICOM'"
   ]
  },
  {
   "cell_type": "code",
   "execution_count": null,
   "metadata": {},
   "outputs": [],
   "source": [
    "files = os.listdir(dirname)"
   ]
  },
  {
   "cell_type": "code",
   "execution_count": null,
   "metadata": {},
   "outputs": [],
   "source": [
    "file1 = pydicom.dcmread(os.path.join(dirname, files[0]))\n",
    "fp = file1.keys()"
   ]
  },
  {
   "cell_type": "code",
   "execution_count": null,
   "metadata": {},
   "outputs": [],
   "source": [
    "l = []\n",
    "for file in files[1:]:\n",
    "    f = pydicom.dcmread(os.path.join(dirname, file))\n",
    "    if(fp != f.keys()):\n",
    "        l.append(files.index(file))\n",
    "print('fine')"
   ]
  },
  {
   "cell_type": "code",
   "execution_count": null,
   "metadata": {},
   "outputs": [],
   "source": [
    "l"
   ]
  },
  {
   "cell_type": "code",
   "execution_count": null,
   "metadata": {},
   "outputs": [],
   "source": [
    "for i in l:\n",
    "    f = pydicom.dcmread(os.path.join(dirname, files[i]))\n",
    "    if(fp != f.keys()):\n",
    "        l.append(files.index(file))\n",
    "print('fine')"
   ]
  },
  {
   "cell_type": "code",
   "execution_count": null,
   "metadata": {},
   "outputs": [],
   "source": [
    "key_t = ['00180040', '00181063', '00280008', '00280009', '00282112', '00282114']"
   ]
  },
  {
   "cell_type": "code",
   "execution_count": null,
   "metadata": {},
   "outputs": [],
   "source": [
    "fx = pydicom.dcmread(os.path.join(dirname, files[319]))   "
   ]
  },
  {
   "cell_type": "code",
   "execution_count": null,
   "metadata": {},
   "outputs": [],
   "source": [
    "for k in key_t:\n",
    "    print(fx[k])"
   ]
  },
  {
   "cell_type": "code",
   "execution_count": null,
   "metadata": {},
   "outputs": [],
   "source": [
    "for file in files[:10]:\n",
    "    f = pydicom.dcmread(os.path.join(dirname, file))\n",
    "    for i,key in enumerate(f.keys()): \n",
    "        if i < 10:\n",
    "            k= f.get_item(key).value\n",
    "            print(k)"
   ]
  },
  {
   "cell_type": "code",
   "execution_count": null,
   "metadata": {},
   "outputs": [],
   "source": [
    "fp"
   ]
  },
  {
   "cell_type": "code",
   "execution_count": null,
   "metadata": {},
   "outputs": [],
   "source": [
    "#milano time "
   ]
  },
  {
   "cell_type": "code",
   "execution_count": null,
   "metadata": {},
   "outputs": [],
   "source": [
    "dirname = \"/data3/wv2019/data/PLIC_MILANO_DICOM\""
   ]
  },
  {
   "cell_type": "code",
   "execution_count": null,
   "metadata": {},
   "outputs": [],
   "source": [
    "files = os.listdir(dirname)"
   ]
  },
  {
   "cell_type": "code",
   "execution_count": null,
   "metadata": {},
   "outputs": [],
   "source": [
    "file1 = pydicom.dcmread(\"/data3/wv2019/data/PLIC_MILANO_DICOM/PLICV4_DISCO4/GEMS_IMG/2013_JUL/18/AC101435/D7IABA5U\")\n",
    "fp = file1.keys()"
   ]
  },
  {
   "cell_type": "code",
   "execution_count": null,
   "metadata": {},
   "outputs": [],
   "source": [
    "l = []\n",
    "ft = fp\n",
    "for fn in glob.glob(os.path.join(dirname, \"*\", \"GEMS_IMG\", \"*\", \"*\", \"*\", \"*\"), recursive=True):\n",
    "    curr_folder = os.listdir(fn[:-8])\n",
    "    f = pydicom.read_file(fn)\n",
    "    if(fp != f.keys()):\n",
    "        l.append(curr_folder.index(fn.split('/')[-1]))\n",
    "        if(ft == fp):\n",
    "            ft = f.keys() \n",
    "print('fine')"
   ]
  },
  {
   "cell_type": "code",
   "execution_count": null,
   "metadata": {},
   "outputs": [],
   "source": [
    "l"
   ]
  },
  {
   "cell_type": "code",
   "execution_count": null,
   "metadata": {},
   "outputs": [],
   "source": [
    "ft"
   ]
  },
  {
   "cell_type": "code",
   "execution_count": null,
   "metadata": {},
   "outputs": [],
   "source": [
    "r = []\n",
    "for fn in glob.glob(os.path.join(dirname, \"*\", \"GEMS_IMG\", \"*\", \"*\", \"*\", \"*\"), recursive=True):\n",
    "    curr_folder = os.listdir(fn[:-8])\n",
    "    if curr_folder.index(fn.split('/')[-1]) in l:\n",
    "        f = pydicom.read_file(fn)\n",
    "        if(ft != f.keys()):\n",
    "            r.append(curr_folder.index(fn.split('/')[-1]))\n",
    "print('fine')"
   ]
  },
  {
   "cell_type": "code",
   "execution_count": null,
   "metadata": {},
   "outputs": [],
   "source": [
    "r"
   ]
  },
  {
   "cell_type": "code",
   "execution_count": null,
   "metadata": {},
   "outputs": [],
   "source": [
    "# is done"
   ]
  },
  {
   "cell_type": "code",
   "execution_count": null,
   "metadata": {},
   "outputs": [],
   "source": []
  },
  {
   "cell_type": "code",
   "execution_count": null,
   "metadata": {},
   "outputs": [],
   "source": []
  },
  {
   "cell_type": "code",
   "execution_count": null,
   "metadata": {},
   "outputs": [],
   "source": [
    "fx = pydicom.dcmread(\"/data3/wv2019/data/PLIC_MILANO_DICOM/PLICV4_DISCO4/GEMS_IMG/2013_JUL/18/AC101435/D7IABA5U\")"
   ]
  },
  {
   "cell_type": "code",
   "execution_count": null,
   "metadata": {},
   "outputs": [],
   "source": [
    "fx"
   ]
  },
  {
   "cell_type": "code",
   "execution_count": null,
   "metadata": {},
   "outputs": [],
   "source": [
    "print(fx[key_t])"
   ]
  },
  {
   "cell_type": "code",
   "execution_count": null,
   "metadata": {},
   "outputs": [],
   "source": []
  }
 ],
 "metadata": {
  "kernelspec": {
   "display_name": "Python 3",
   "language": "python",
   "name": "python3"
  },
  "language_info": {
   "codemirror_mode": {
    "name": "ipython",
    "version": 3
   },
   "file_extension": ".py",
   "mimetype": "text/x-python",
   "name": "python",
   "nbconvert_exporter": "python",
   "pygments_lexer": "ipython3",
   "version": "3.7.3"
  }
 },
 "nbformat": 4,
 "nbformat_minor": 2
}
