{
 "cells": [
  {
   "cell_type": "code",
   "execution_count": 232,
   "metadata": {},
   "outputs": [],
   "source": [
    "import os\n",
    "import glob\n",
    "import numpy as np\n",
    "import pandas as pd\n",
    "import re\n",
    "import matplotlib.pyplot as plt\n",
    "import pydicom\n",
    "import cv2\n",
    "#from joblib import Parallel, delayed"
   ]
  },
  {
   "cell_type": "code",
   "execution_count": 233,
   "metadata": {},
   "outputs": [],
   "source": [
    "#cropping by metadata\n",
    "#input: img - dcm file\n",
    "#output: cropped img file\n",
    "\"\"\"def old_metacrop(img):\n",
    "    print(type(img))\n",
    "    temp = (img.get_item((0x0018,0x6011)).value)\n",
    "    print(temp)\n",
    "    x0 = temp[0x00186018].value\n",
    "    x1 = temp[0x0018601c].value\n",
    "    y0 = temp[0x0018601a].value\n",
    "    y1 = temp[0x0018601e].value\n",
    "    return img.pixel_array[x0:x1, y0:y1]\"\"\"\n",
    "def metacrop(file):\n",
    "    for key in file.dir():\n",
    "        value = getattr(file, key, \"\")\n",
    "        if(key == \"SequenceOfUltrasoundRegions\"):\n",
    "            value = value[0]\n",
    "            break\n",
    "    x0, x1, y0, y1 = None, None, None, None\n",
    "    for key in value.dir():\n",
    "        if key == \"RegionLocationMinX0\":\n",
    "            x0 = getattr(value, key, \"\")\n",
    "        if key == \"RegionLocationMaxX1\":\n",
    "            x1 = getattr(value, key, \"\")\n",
    "        if key == \"RegionLocationMinY0\":\n",
    "            y0 = getattr(value, key, \"\")\n",
    "        if key == \"RegionLocationMaxY1\":\n",
    "            y1 = getattr(value, key, \"\")\n",
    "    return file.pixel_array[y0:y1+1, x0:x1+1]"
   ]
  },
  {
   "cell_type": "code",
   "execution_count": 234,
   "metadata": {},
   "outputs": [],
   "source": [
    "ROOT = \"/data3/wv2019/data/PLIC_MILANO_DICOM\"\n",
    "ROOT_OUT = \"/data3/wv2019/data/processed/PLIC_MILANO_DICOM\""
   ]
  },
  {
   "cell_type": "code",
   "execution_count": 235,
   "metadata": {},
   "outputs": [],
   "source": [
    "# define callbacks\n",
    "def person_names_callback(dataset, data_element):\n",
    "    if data_element.VR == \"PN\":\n",
    "        data_element.value = \"anonymous\"\n",
    "        \n",
    "def curves_callback(dataset, data_element):\n",
    "    if data_element.tag.group & 0xFF00 == 0x5000:\n",
    "        del dataset[data_element.tag]\n",
    "\n",
    "t2tag = 'PatientBirthDate'"
   ]
  },
  {
   "cell_type": "code",
   "execution_count": null,
   "metadata": {},
   "outputs": [],
   "source": [
    "### TODO\n",
    "# - consider also Doppler mode\n",
    "# - extend to the whole set of images\n",
    "# - check whether the anonymized DICOM file differs from the original (except for the removed sensitive data)\n",
    "# - parallelize code"
   ]
  },
  {
   "cell_type": "code",
   "execution_count": null,
   "metadata": {},
   "outputs": [],
   "source": [
    "data_len = len(glob.glob(os.path.join(ROOT, \"*\", \"GEMS_IMG\", \"*\", \"*\", \"*\", \"*\")))"
   ]
  },
  {
   "cell_type": "code",
   "execution_count": 249,
   "metadata": {},
   "outputs": [
    {
     "name": "stdout",
     "output_type": "stream",
     "text": [
      "find: unknown predicate `-r'\n"
     ]
    }
   ],
   "source": [
    "!find \"/data3/wv2019/data/PLIC_MILANO_DICOM/\" | grep \"BANFITI_79422\""
   ]
  },
  {
   "cell_type": "code",
   "execution_count": null,
   "metadata": {},
   "outputs": [],
   "source": [
    "# directory tree:\n",
    "# ROOT\n",
    "# - PLIC<something>_DISCO<N>\n",
    "#   - GEMS_IMG\n",
    "#     - <YEAR>_<MONTH>\n",
    "#       - <NN>\n",
    "#         - <SOMEDIR>\n",
    "#           - DICOMs\n",
    "\n",
    "# organize DICOMs by patient ID\n",
    "# start with a subset of imgs\n",
    "for fn in glob.glob(os.path.join(ROOT, \"*\", \"GEMS_IMG\", \"*\", \"*\", \"*\", \"*\"), recursive=True):\n",
    "    ds = pydicom.read_file(fn)\n",
    "\n",
    "    # clear private data\n",
    "    ds.walk(person_names_callback)\n",
    "    ds.walk(curves_callback)\n",
    "    # address/sanitize patient IDs (remove spaces and non-alphanum characters)\n",
    "    ds.data_element('PatientID').value = re.sub(r'\\W+', '', ds.data_element('PatientID').value.strip().replace(\" \", \"_\"))\n",
    "    # type 2 tags\n",
    "    if t2tag in ds:\n",
    "        ds.data_element(t2tag).value = ''\n",
    "\n",
    "    patientID = ds.PatientID\n",
    "    dicomName = os.path.basename(fn).strip().replace(\" \", \"_\")\n",
    "\n",
    "    out_dir = os.path.join(ROOT_OUT, str(patientID))\n",
    "    os.makedirs(out_dir, exist_ok=True)\n",
    "    out_dicom = os.path.join(out_dir, f\"{dicomName}.dcm\")\n",
    "    \n",
    "    desc = str(ds)\n",
    "    for line in desc.split(\"\\n\"):\n",
    "        if \"#DopplerFreq\" in line:\n",
    "            out_dir = os.path.join(ROOT_OUT, \"DOPPLER\", str(patientID))\n",
    "            os.makedirs(out_dir, exist_ok=True)\n",
    "            out_dicom = os.path.join(out_dir, f\"{dicomName}.dcm\")\n",
    "            break\n",
    "    #out_png = os.path.join(out_dir, f\"conv_{dicomName}.png\")\n",
    "    #plt.imshow(ds.pixel_array)\n",
    "    #plt.show()\n",
    "    \n",
    "    #print(fn)\n",
    "    \n",
    "    # write DICOM Standard compliant file\n",
    "    if not os.path.isfile(out_dicom):\n",
    "        pydicom.filewriter.write_file(out_dicom, ds, write_like_original=False)\n",
    "    # write PNG for non-doppler images\n",
    "    # NOTE: not needed at first, let's keep also Doppler mode\n",
    "    #if len(ds.SequenceOfUltrasoundRegions) == 1 :\n",
    "    #    if not os.path.isfile(out_png):\n",
    "    #        cv2.imwrite(out_png, ds.pixel_array)\n"
   ]
  },
  {
   "cell_type": "code",
   "execution_count": null,
   "metadata": {},
   "outputs": [],
   "source": [
    "# Metacrop function test\n",
    "#pdata = metacrop(ds)\n",
    "\n",
    "#ds1.PixelData = pdata.tobytes()\n",
    "#ds1.Rows, ds1.Columns, _ = pdata.shape"
   ]
  }
 ],
 "metadata": {
  "kernelspec": {
   "display_name": "Python 3",
   "language": "python",
   "name": "python3"
  },
  "language_info": {
   "codemirror_mode": {
    "name": "ipython",
    "version": 3
   },
   "file_extension": ".py",
   "mimetype": "text/x-python",
   "name": "python",
   "nbconvert_exporter": "python",
   "pygments_lexer": "ipython3",
   "version": "3.7.3"
  }
 },
 "nbformat": 4,
 "nbformat_minor": 2
}
